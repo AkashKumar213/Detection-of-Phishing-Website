{
 "cells": [
  {
   "cell_type": "code",
   "execution_count": 88,
   "id": "b9750991",
   "metadata": {},
   "outputs": [],
   "source": [
    "import pickle\n",
    "import numpy,sklearn,pandas\n",
    "import numpy as np\n",
    "import pandas as pd"
   ]
  },
  {
   "cell_type": "markdown",
   "id": "49f02705",
   "metadata": {},
   "source": [
    "# Reading the dataset file"
   ]
  },
  {
   "cell_type": "code",
   "execution_count": 89,
   "id": "11ae5822",
   "metadata": {},
   "outputs": [],
   "source": [
    "raw_data = pd.read_csv(\"C:\\\\Users\\\\AKASH\\\\Desktop\\\\dataset2.csv\") "
   ]
  },
  {
   "cell_type": "code",
   "execution_count": 90,
   "id": "40acf53f",
   "metadata": {},
   "outputs": [
    {
     "data": {
      "text/html": [
       "<div>\n",
       "<style scoped>\n",
       "    .dataframe tbody tr th:only-of-type {\n",
       "        vertical-align: middle;\n",
       "    }\n",
       "\n",
       "    .dataframe tbody tr th {\n",
       "        vertical-align: top;\n",
       "    }\n",
       "\n",
       "    .dataframe thead th {\n",
       "        text-align: right;\n",
       "    }\n",
       "</style>\n",
       "<table border=\"1\" class=\"dataframe\">\n",
       "  <thead>\n",
       "    <tr style=\"text-align: right;\">\n",
       "      <th></th>\n",
       "      <th>URL</th>\n",
       "      <th>Target</th>\n",
       "    </tr>\n",
       "  </thead>\n",
       "  <tbody>\n",
       "    <tr>\n",
       "      <th>0</th>\n",
       "      <td>https://locking-app-adverds.000webhostapp.com/...</td>\n",
       "      <td>yes</td>\n",
       "    </tr>\n",
       "    <tr>\n",
       "      <th>1</th>\n",
       "      <td>http://www.myhealthcarepharmacy.ca/wp-includes...</td>\n",
       "      <td>yes</td>\n",
       "    </tr>\n",
       "    <tr>\n",
       "      <th>2</th>\n",
       "      <td>http://code.google.com/p/pylevenshtein/</td>\n",
       "      <td>no</td>\n",
       "    </tr>\n",
       "    <tr>\n",
       "      <th>3</th>\n",
       "      <td>http://linkedin.com/</td>\n",
       "      <td>no</td>\n",
       "    </tr>\n",
       "    <tr>\n",
       "      <th>4</th>\n",
       "      <td>http://imageshack.com/f/219/cadir2yr3.jpg</td>\n",
       "      <td>no</td>\n",
       "    </tr>\n",
       "  </tbody>\n",
       "</table>\n",
       "</div>"
      ],
      "text/plain": [
       "                                                 URL Target\n",
       "0  https://locking-app-adverds.000webhostapp.com/...    yes\n",
       "1  http://www.myhealthcarepharmacy.ca/wp-includes...    yes\n",
       "2            http://code.google.com/p/pylevenshtein/     no\n",
       "3                               http://linkedin.com/     no\n",
       "4          http://imageshack.com/f/219/cadir2yr3.jpg     no"
      ]
     },
     "execution_count": 90,
     "metadata": {},
     "output_type": "execute_result"
    }
   ],
   "source": [
    "raw_data.head()"
   ]
  },
  {
   "cell_type": "code",
   "execution_count": 91,
   "id": "0e5e7ec3",
   "metadata": {},
   "outputs": [
    {
     "data": {
      "text/plain": [
       "(1781, 2)"
      ]
     },
     "execution_count": 91,
     "metadata": {},
     "output_type": "execute_result"
    }
   ],
   "source": [
    "raw_data.shape"
   ]
  },
  {
   "cell_type": "markdown",
   "id": "ea3454af",
   "metadata": {},
   "source": [
    "# SPLITTING THE URL"
   ]
  },
  {
   "cell_type": "code",
   "execution_count": 93,
   "id": "43bf55e6",
   "metadata": {},
   "outputs": [
    {
     "data": {
      "text/plain": [
       "0    [https, locking-app-adverds.000webhostapp.com/...\n",
       "1    [http, www.myhealthcarepharmacy.ca/wp-includes...\n",
       "2             [http, code.google.com/p/pylevenshtein/]\n",
       "3                                [http, linkedin.com/]\n",
       "4           [http, imageshack.com/f/219/cadir2yr3.jpg]\n",
       "Name: URL, dtype: object"
      ]
     },
     "execution_count": 93,
     "metadata": {},
     "output_type": "execute_result"
    }
   ],
   "source": [
    "raw_data['URL'].str.split(\"://\").head()"
   ]
  },
  {
   "cell_type": "code",
   "execution_count": 94,
   "id": "a1b0a0fe",
   "metadata": {},
   "outputs": [],
   "source": [
    "seperation_of_protocol = raw_data['URL'].str.split(\"://\",expand = True) #expand argument in the split method will give you a new column"
   ]
  },
  {
   "cell_type": "code",
   "execution_count": 95,
   "id": "8ebc38a8",
   "metadata": {},
   "outputs": [
    {
     "data": {
      "text/html": [
       "<div>\n",
       "<style scoped>\n",
       "    .dataframe tbody tr th:only-of-type {\n",
       "        vertical-align: middle;\n",
       "    }\n",
       "\n",
       "    .dataframe tbody tr th {\n",
       "        vertical-align: top;\n",
       "    }\n",
       "\n",
       "    .dataframe thead th {\n",
       "        text-align: right;\n",
       "    }\n",
       "</style>\n",
       "<table border=\"1\" class=\"dataframe\">\n",
       "  <thead>\n",
       "    <tr style=\"text-align: right;\">\n",
       "      <th></th>\n",
       "      <th>0</th>\n",
       "      <th>1</th>\n",
       "      <th>2</th>\n",
       "      <th>3</th>\n",
       "      <th>4</th>\n",
       "      <th>5</th>\n",
       "      <th>6</th>\n",
       "    </tr>\n",
       "  </thead>\n",
       "  <tbody>\n",
       "    <tr>\n",
       "      <th>0</th>\n",
       "      <td>https</td>\n",
       "      <td>locking-app-adverds.000webhostapp.com/payment-...</td>\n",
       "      <td>None</td>\n",
       "      <td>None</td>\n",
       "      <td>None</td>\n",
       "      <td>None</td>\n",
       "      <td>None</td>\n",
       "    </tr>\n",
       "    <tr>\n",
       "      <th>1</th>\n",
       "      <td>http</td>\n",
       "      <td>www.myhealthcarepharmacy.ca/wp-includes/js/jqu...</td>\n",
       "      <td>None</td>\n",
       "      <td>None</td>\n",
       "      <td>None</td>\n",
       "      <td>None</td>\n",
       "      <td>None</td>\n",
       "    </tr>\n",
       "    <tr>\n",
       "      <th>2</th>\n",
       "      <td>http</td>\n",
       "      <td>code.google.com/p/pylevenshtein/</td>\n",
       "      <td>None</td>\n",
       "      <td>None</td>\n",
       "      <td>None</td>\n",
       "      <td>None</td>\n",
       "      <td>None</td>\n",
       "    </tr>\n",
       "    <tr>\n",
       "      <th>3</th>\n",
       "      <td>http</td>\n",
       "      <td>linkedin.com/</td>\n",
       "      <td>None</td>\n",
       "      <td>None</td>\n",
       "      <td>None</td>\n",
       "      <td>None</td>\n",
       "      <td>None</td>\n",
       "    </tr>\n",
       "    <tr>\n",
       "      <th>4</th>\n",
       "      <td>http</td>\n",
       "      <td>imageshack.com/f/219/cadir2yr3.jpg</td>\n",
       "      <td>None</td>\n",
       "      <td>None</td>\n",
       "      <td>None</td>\n",
       "      <td>None</td>\n",
       "      <td>None</td>\n",
       "    </tr>\n",
       "  </tbody>\n",
       "</table>\n",
       "</div>"
      ],
      "text/plain": [
       "       0                                                  1     2     3     4  \\\n",
       "0  https  locking-app-adverds.000webhostapp.com/payment-...  None  None  None   \n",
       "1   http  www.myhealthcarepharmacy.ca/wp-includes/js/jqu...  None  None  None   \n",
       "2   http                   code.google.com/p/pylevenshtein/  None  None  None   \n",
       "3   http                                      linkedin.com/  None  None  None   \n",
       "4   http                 imageshack.com/f/219/cadir2yr3.jpg  None  None  None   \n",
       "\n",
       "      5     6  \n",
       "0  None  None  \n",
       "1  None  None  \n",
       "2  None  None  \n",
       "3  None  None  \n",
       "4  None  None  "
      ]
     },
     "execution_count": 95,
     "metadata": {},
     "output_type": "execute_result"
    }
   ],
   "source": [
    "seperation_of_protocol.head()"
   ]
  },
  {
   "cell_type": "code",
   "execution_count": 96,
   "id": "777e57a7",
   "metadata": {},
   "outputs": [
    {
     "data": {
      "text/plain": [
       "pandas.core.frame.DataFrame"
      ]
     },
     "execution_count": 96,
     "metadata": {},
     "output_type": "execute_result"
    }
   ],
   "source": [
    "type(seperation_of_protocol)"
   ]
  },
  {
   "cell_type": "code",
   "execution_count": 97,
   "id": "e8af1031",
   "metadata": {},
   "outputs": [],
   "source": [
    "seperation_domain_name = seperation_of_protocol[1].str.split(\"/\",1,expand = True) #split(seperator,no of splits according to seperator(delimiter),expand)\n"
   ]
  },
  {
   "cell_type": "code",
   "execution_count": 98,
   "id": "1ae13454",
   "metadata": {},
   "outputs": [
    {
     "data": {
      "text/plain": [
       "pandas.core.frame.DataFrame"
      ]
     },
     "execution_count": 98,
     "metadata": {},
     "output_type": "execute_result"
    }
   ],
   "source": [
    "type(seperation_domain_name)"
   ]
  },
  {
   "cell_type": "code",
   "execution_count": 99,
   "id": "1f666253",
   "metadata": {},
   "outputs": [],
   "source": [
    "seperation_domain_name.columns=[\"domain_name\",\"address\"] #renaming columns of data frame"
   ]
  },
  {
   "cell_type": "code",
   "execution_count": 100,
   "id": "0caa0e9a",
   "metadata": {},
   "outputs": [
    {
     "data": {
      "text/html": [
       "<div>\n",
       "<style scoped>\n",
       "    .dataframe tbody tr th:only-of-type {\n",
       "        vertical-align: middle;\n",
       "    }\n",
       "\n",
       "    .dataframe tbody tr th {\n",
       "        vertical-align: top;\n",
       "    }\n",
       "\n",
       "    .dataframe thead th {\n",
       "        text-align: right;\n",
       "    }\n",
       "</style>\n",
       "<table border=\"1\" class=\"dataframe\">\n",
       "  <thead>\n",
       "    <tr style=\"text-align: right;\">\n",
       "      <th></th>\n",
       "      <th>domain_name</th>\n",
       "      <th>address</th>\n",
       "    </tr>\n",
       "  </thead>\n",
       "  <tbody>\n",
       "    <tr>\n",
       "      <th>0</th>\n",
       "      <td>locking-app-adverds.000webhostapp.com</td>\n",
       "      <td>payment-update-0.html?fb_source=bookmark_apps&amp;...</td>\n",
       "    </tr>\n",
       "    <tr>\n",
       "      <th>1</th>\n",
       "      <td>www.myhealthcarepharmacy.ca</td>\n",
       "      <td>wp-includes/js/jquery/ini.php</td>\n",
       "    </tr>\n",
       "    <tr>\n",
       "      <th>2</th>\n",
       "      <td>code.google.com</td>\n",
       "      <td>p/pylevenshtein/</td>\n",
       "    </tr>\n",
       "    <tr>\n",
       "      <th>3</th>\n",
       "      <td>linkedin.com</td>\n",
       "      <td></td>\n",
       "    </tr>\n",
       "    <tr>\n",
       "      <th>4</th>\n",
       "      <td>imageshack.com</td>\n",
       "      <td>f/219/cadir2yr3.jpg</td>\n",
       "    </tr>\n",
       "  </tbody>\n",
       "</table>\n",
       "</div>"
      ],
      "text/plain": [
       "                             domain_name  \\\n",
       "0  locking-app-adverds.000webhostapp.com   \n",
       "1            www.myhealthcarepharmacy.ca   \n",
       "2                        code.google.com   \n",
       "3                           linkedin.com   \n",
       "4                         imageshack.com   \n",
       "\n",
       "                                             address  \n",
       "0  payment-update-0.html?fb_source=bookmark_apps&...  \n",
       "1                      wp-includes/js/jquery/ini.php  \n",
       "2                                   p/pylevenshtein/  \n",
       "3                                                     \n",
       "4                                f/219/cadir2yr3.jpg  "
      ]
     },
     "execution_count": 100,
     "metadata": {},
     "output_type": "execute_result"
    }
   ],
   "source": [
    "seperation_domain_name.head()"
   ]
  },
  {
   "cell_type": "code",
   "execution_count": 101,
   "id": "b58e7db8",
   "metadata": {},
   "outputs": [],
   "source": [
    "splitted_data = pd.concat([seperation_of_protocol[0],seperation_domain_name],axis=1)"
   ]
  },
  {
   "cell_type": "code",
   "execution_count": 102,
   "id": "bddefcce",
   "metadata": {},
   "outputs": [],
   "source": [
    "splitted_data.columns = ['protocol','domain_name','address']"
   ]
  },
  {
   "cell_type": "code",
   "execution_count": 103,
   "id": "814f2810",
   "metadata": {},
   "outputs": [
    {
     "data": {
      "text/html": [
       "<div>\n",
       "<style scoped>\n",
       "    .dataframe tbody tr th:only-of-type {\n",
       "        vertical-align: middle;\n",
       "    }\n",
       "\n",
       "    .dataframe tbody tr th {\n",
       "        vertical-align: top;\n",
       "    }\n",
       "\n",
       "    .dataframe thead th {\n",
       "        text-align: right;\n",
       "    }\n",
       "</style>\n",
       "<table border=\"1\" class=\"dataframe\">\n",
       "  <thead>\n",
       "    <tr style=\"text-align: right;\">\n",
       "      <th></th>\n",
       "      <th>protocol</th>\n",
       "      <th>domain_name</th>\n",
       "      <th>address</th>\n",
       "    </tr>\n",
       "  </thead>\n",
       "  <tbody>\n",
       "    <tr>\n",
       "      <th>0</th>\n",
       "      <td>https</td>\n",
       "      <td>locking-app-adverds.000webhostapp.com</td>\n",
       "      <td>payment-update-0.html?fb_source=bookmark_apps&amp;...</td>\n",
       "    </tr>\n",
       "    <tr>\n",
       "      <th>1</th>\n",
       "      <td>http</td>\n",
       "      <td>www.myhealthcarepharmacy.ca</td>\n",
       "      <td>wp-includes/js/jquery/ini.php</td>\n",
       "    </tr>\n",
       "    <tr>\n",
       "      <th>2</th>\n",
       "      <td>http</td>\n",
       "      <td>code.google.com</td>\n",
       "      <td>p/pylevenshtein/</td>\n",
       "    </tr>\n",
       "    <tr>\n",
       "      <th>3</th>\n",
       "      <td>http</td>\n",
       "      <td>linkedin.com</td>\n",
       "      <td></td>\n",
       "    </tr>\n",
       "    <tr>\n",
       "      <th>4</th>\n",
       "      <td>http</td>\n",
       "      <td>imageshack.com</td>\n",
       "      <td>f/219/cadir2yr3.jpg</td>\n",
       "    </tr>\n",
       "  </tbody>\n",
       "</table>\n",
       "</div>"
      ],
      "text/plain": [
       "  protocol                            domain_name  \\\n",
       "0    https  locking-app-adverds.000webhostapp.com   \n",
       "1     http            www.myhealthcarepharmacy.ca   \n",
       "2     http                        code.google.com   \n",
       "3     http                           linkedin.com   \n",
       "4     http                         imageshack.com   \n",
       "\n",
       "                                             address  \n",
       "0  payment-update-0.html?fb_source=bookmark_apps&...  \n",
       "1                      wp-includes/js/jquery/ini.php  \n",
       "2                                   p/pylevenshtein/  \n",
       "3                                                     \n",
       "4                                f/219/cadir2yr3.jpg  "
      ]
     },
     "execution_count": 103,
     "metadata": {},
     "output_type": "execute_result"
    }
   ],
   "source": [
    "splitted_data.head()"
   ]
  },
  {
   "cell_type": "code",
   "execution_count": 104,
   "id": "f0867574",
   "metadata": {},
   "outputs": [],
   "source": [
    "splitted_data['is_phished'] = pd.Series(raw_data['Target'], index=splitted_data.index)"
   ]
  },
  {
   "cell_type": "code",
   "execution_count": 105,
   "id": "944f570a",
   "metadata": {},
   "outputs": [
    {
     "data": {
      "text/html": [
       "<div>\n",
       "<style scoped>\n",
       "    .dataframe tbody tr th:only-of-type {\n",
       "        vertical-align: middle;\n",
       "    }\n",
       "\n",
       "    .dataframe tbody tr th {\n",
       "        vertical-align: top;\n",
       "    }\n",
       "\n",
       "    .dataframe thead th {\n",
       "        text-align: right;\n",
       "    }\n",
       "</style>\n",
       "<table border=\"1\" class=\"dataframe\">\n",
       "  <thead>\n",
       "    <tr style=\"text-align: right;\">\n",
       "      <th></th>\n",
       "      <th>protocol</th>\n",
       "      <th>domain_name</th>\n",
       "      <th>address</th>\n",
       "      <th>is_phished</th>\n",
       "    </tr>\n",
       "  </thead>\n",
       "  <tbody>\n",
       "    <tr>\n",
       "      <th>0</th>\n",
       "      <td>https</td>\n",
       "      <td>locking-app-adverds.000webhostapp.com</td>\n",
       "      <td>payment-update-0.html?fb_source=bookmark_apps&amp;...</td>\n",
       "      <td>yes</td>\n",
       "    </tr>\n",
       "    <tr>\n",
       "      <th>1</th>\n",
       "      <td>http</td>\n",
       "      <td>www.myhealthcarepharmacy.ca</td>\n",
       "      <td>wp-includes/js/jquery/ini.php</td>\n",
       "      <td>yes</td>\n",
       "    </tr>\n",
       "    <tr>\n",
       "      <th>2</th>\n",
       "      <td>http</td>\n",
       "      <td>code.google.com</td>\n",
       "      <td>p/pylevenshtein/</td>\n",
       "      <td>no</td>\n",
       "    </tr>\n",
       "    <tr>\n",
       "      <th>3</th>\n",
       "      <td>http</td>\n",
       "      <td>linkedin.com</td>\n",
       "      <td></td>\n",
       "      <td>no</td>\n",
       "    </tr>\n",
       "    <tr>\n",
       "      <th>4</th>\n",
       "      <td>http</td>\n",
       "      <td>imageshack.com</td>\n",
       "      <td>f/219/cadir2yr3.jpg</td>\n",
       "      <td>no</td>\n",
       "    </tr>\n",
       "    <tr>\n",
       "      <th>...</th>\n",
       "      <td>...</td>\n",
       "      <td>...</td>\n",
       "      <td>...</td>\n",
       "      <td>...</td>\n",
       "    </tr>\n",
       "    <tr>\n",
       "      <th>1776</th>\n",
       "      <td>https</td>\n",
       "      <td>docs.google.com</td>\n",
       "      <td>document/u/1/</td>\n",
       "      <td>no</td>\n",
       "    </tr>\n",
       "    <tr>\n",
       "      <th>1777</th>\n",
       "      <td>http</td>\n",
       "      <td>www.charlestodd.com</td>\n",
       "      <td>wp-includes/pomo/adobe2.html</td>\n",
       "      <td>yes</td>\n",
       "    </tr>\n",
       "    <tr>\n",
       "      <th>1778</th>\n",
       "      <td>http</td>\n",
       "      <td>tslimpact.com</td>\n",
       "      <td>medsynaptic/wp-content/themes/twentyseventeen/...</td>\n",
       "      <td>yes</td>\n",
       "    </tr>\n",
       "    <tr>\n",
       "      <th>1779</th>\n",
       "      <td>http</td>\n",
       "      <td>daoudilorin11.mystagingwebsite.com</td>\n",
       "      <td>wp-content/plugins/ubh/acc/dir/68e1c/dir/car.php</td>\n",
       "      <td>yes</td>\n",
       "    </tr>\n",
       "    <tr>\n",
       "      <th>1780</th>\n",
       "      <td>https</td>\n",
       "      <td>stom05.ru</td>\n",
       "      <td>asb.co.nz</td>\n",
       "      <td>yes</td>\n",
       "    </tr>\n",
       "  </tbody>\n",
       "</table>\n",
       "<p>1781 rows × 4 columns</p>\n",
       "</div>"
      ],
      "text/plain": [
       "     protocol                            domain_name  \\\n",
       "0       https  locking-app-adverds.000webhostapp.com   \n",
       "1        http            www.myhealthcarepharmacy.ca   \n",
       "2        http                        code.google.com   \n",
       "3        http                           linkedin.com   \n",
       "4        http                         imageshack.com   \n",
       "...       ...                                    ...   \n",
       "1776    https                        docs.google.com   \n",
       "1777     http                    www.charlestodd.com   \n",
       "1778     http                          tslimpact.com   \n",
       "1779     http     daoudilorin11.mystagingwebsite.com   \n",
       "1780    https                              stom05.ru   \n",
       "\n",
       "                                                address is_phished  \n",
       "0     payment-update-0.html?fb_source=bookmark_apps&...        yes  \n",
       "1                         wp-includes/js/jquery/ini.php        yes  \n",
       "2                                      p/pylevenshtein/         no  \n",
       "3                                                               no  \n",
       "4                                   f/219/cadir2yr3.jpg         no  \n",
       "...                                                 ...        ...  \n",
       "1776                                      document/u/1/         no  \n",
       "1777                       wp-includes/pomo/adobe2.html        yes  \n",
       "1778  medsynaptic/wp-content/themes/twentyseventeen/...        yes  \n",
       "1779   wp-content/plugins/ubh/acc/dir/68e1c/dir/car.php        yes  \n",
       "1780                                          asb.co.nz        yes  \n",
       "\n",
       "[1781 rows x 4 columns]"
      ]
     },
     "execution_count": 105,
     "metadata": {},
     "output_type": "execute_result"
    }
   ],
   "source": [
    "splitted_data"
   ]
  },
  {
   "cell_type": "code",
   "execution_count": 106,
   "id": "32b00a41",
   "metadata": {},
   "outputs": [
    {
     "data": {
      "text/plain": [
       "pandas.core.frame.DataFrame"
      ]
     },
     "execution_count": 106,
     "metadata": {},
     "output_type": "execute_result"
    }
   ],
   "source": [
    "type(splitted_data)"
   ]
  },
  {
   "cell_type": "markdown",
   "id": "105355ba",
   "metadata": {},
   "source": [
    "# Features Extraction\n",
    "Feature-1\n",
    "\n",
    "1.Long URL to Hide the Suspicious Part\n",
    "\n",
    "If the length of the URL is greater than or equal 54 characters then the URL classified as phishing\n",
    "\n",
    "0 --- indicates legitimate\n",
    "\n",
    "1 --- indicates Phishing\n",
    "\n",
    "2 --- indicates Suspicious"
   ]
  },
  {
   "cell_type": "code",
   "execution_count": 107,
   "id": "42de0ff3",
   "metadata": {},
   "outputs": [],
   "source": [
    "def long_url(l):\n",
    "    l= str(l)\n",
    "    \"\"\"This function is defined in order to differntiate website based on the length of the URL\"\"\"\n",
    "    if len(l) < 54:\n",
    "        return 0\n",
    "    elif len(l) >= 54 and len(l) <= 75:\n",
    "        return 2\n",
    "    return 1"
   ]
  },
  {
   "cell_type": "code",
   "execution_count": 108,
   "id": "b33180e9",
   "metadata": {},
   "outputs": [],
   "source": [
    "splitted_data['long_url'] = raw_data['URL'].apply(long_url) "
   ]
  },
  {
   "cell_type": "code",
   "execution_count": 109,
   "id": "fba8932f",
   "metadata": {},
   "outputs": [
    {
     "data": {
      "text/html": [
       "<div>\n",
       "<style scoped>\n",
       "    .dataframe tbody tr th:only-of-type {\n",
       "        vertical-align: middle;\n",
       "    }\n",
       "\n",
       "    .dataframe tbody tr th {\n",
       "        vertical-align: top;\n",
       "    }\n",
       "\n",
       "    .dataframe thead th {\n",
       "        text-align: right;\n",
       "    }\n",
       "</style>\n",
       "<table border=\"1\" class=\"dataframe\">\n",
       "  <thead>\n",
       "    <tr style=\"text-align: right;\">\n",
       "      <th></th>\n",
       "      <th>protocol</th>\n",
       "      <th>domain_name</th>\n",
       "      <th>address</th>\n",
       "      <th>is_phished</th>\n",
       "      <th>long_url</th>\n",
       "    </tr>\n",
       "  </thead>\n",
       "  <tbody>\n",
       "    <tr>\n",
       "      <th>2</th>\n",
       "      <td>http</td>\n",
       "      <td>code.google.com</td>\n",
       "      <td>p/pylevenshtein/</td>\n",
       "      <td>no</td>\n",
       "      <td>0</td>\n",
       "    </tr>\n",
       "    <tr>\n",
       "      <th>3</th>\n",
       "      <td>http</td>\n",
       "      <td>linkedin.com</td>\n",
       "      <td></td>\n",
       "      <td>no</td>\n",
       "      <td>0</td>\n",
       "    </tr>\n",
       "    <tr>\n",
       "      <th>4</th>\n",
       "      <td>http</td>\n",
       "      <td>imageshack.com</td>\n",
       "      <td>f/219/cadir2yr3.jpg</td>\n",
       "      <td>no</td>\n",
       "      <td>0</td>\n",
       "    </tr>\n",
       "    <tr>\n",
       "      <th>6</th>\n",
       "      <td>http</td>\n",
       "      <td>www.7-zip.org</td>\n",
       "      <td>download.html</td>\n",
       "      <td>no</td>\n",
       "      <td>0</td>\n",
       "    </tr>\n",
       "    <tr>\n",
       "      <th>7</th>\n",
       "      <td>http</td>\n",
       "      <td>ebay.com</td>\n",
       "      <td></td>\n",
       "      <td>no</td>\n",
       "      <td>0</td>\n",
       "    </tr>\n",
       "    <tr>\n",
       "      <th>...</th>\n",
       "      <td>...</td>\n",
       "      <td>...</td>\n",
       "      <td>...</td>\n",
       "      <td>...</td>\n",
       "      <td>...</td>\n",
       "    </tr>\n",
       "    <tr>\n",
       "      <th>1766</th>\n",
       "      <td>http</td>\n",
       "      <td>malomolk.com</td>\n",
       "      <td>nab/cardinfo.html</td>\n",
       "      <td>yes</td>\n",
       "      <td>0</td>\n",
       "    </tr>\n",
       "    <tr>\n",
       "      <th>1774</th>\n",
       "      <td>http</td>\n",
       "      <td>www.dpincsupport.com</td>\n",
       "      <td></td>\n",
       "      <td>no</td>\n",
       "      <td>0</td>\n",
       "    </tr>\n",
       "    <tr>\n",
       "      <th>1775</th>\n",
       "      <td>https</td>\n",
       "      <td>bitcoin.org</td>\n",
       "      <td>en/</td>\n",
       "      <td>no</td>\n",
       "      <td>0</td>\n",
       "    </tr>\n",
       "    <tr>\n",
       "      <th>1776</th>\n",
       "      <td>https</td>\n",
       "      <td>docs.google.com</td>\n",
       "      <td>document/u/1/</td>\n",
       "      <td>no</td>\n",
       "      <td>0</td>\n",
       "    </tr>\n",
       "    <tr>\n",
       "      <th>1780</th>\n",
       "      <td>https</td>\n",
       "      <td>stom05.ru</td>\n",
       "      <td>asb.co.nz</td>\n",
       "      <td>yes</td>\n",
       "      <td>0</td>\n",
       "    </tr>\n",
       "  </tbody>\n",
       "</table>\n",
       "<p>745 rows × 5 columns</p>\n",
       "</div>"
      ],
      "text/plain": [
       "     protocol           domain_name              address is_phished  long_url\n",
       "2        http       code.google.com     p/pylevenshtein/         no         0\n",
       "3        http          linkedin.com                              no         0\n",
       "4        http        imageshack.com  f/219/cadir2yr3.jpg         no         0\n",
       "6        http         www.7-zip.org        download.html         no         0\n",
       "7        http              ebay.com                              no         0\n",
       "...       ...                   ...                  ...        ...       ...\n",
       "1766     http          malomolk.com    nab/cardinfo.html        yes         0\n",
       "1774     http  www.dpincsupport.com                              no         0\n",
       "1775    https           bitcoin.org                  en/         no         0\n",
       "1776    https       docs.google.com        document/u/1/         no         0\n",
       "1780    https             stom05.ru            asb.co.nz        yes         0\n",
       "\n",
       "[745 rows x 5 columns]"
      ]
     },
     "execution_count": 109,
     "metadata": {},
     "output_type": "execute_result"
    }
   ],
   "source": [
    "splitted_data[splitted_data.long_url == 0] "
   ]
  },
  {
   "cell_type": "markdown",
   "id": "9b759d7c",
   "metadata": {},
   "source": [
    "# Feature-2\n",
    "\n",
    "2.URL’s having “@” Symbol\n",
    "\n",
    "Using “@” symbol in the URL leads the browser to ignore everything preceding the “@” symbol and the real address often follows the “@” symbol.\n",
    "\n",
    "IF {Url Having @ Symbol→ Phishing Otherwise→ Legitimate }\n",
    "\n",
    "0 --- indicates legitimate\n",
    "\n",
    "1 --- indicates Phishing"
   ]
  },
  {
   "cell_type": "code",
   "execution_count": 110,
   "id": "bada9043",
   "metadata": {},
   "outputs": [],
   "source": [
    "def have_at_symbol(l):\n",
    "    \"\"\"This function is used to check whether the URL contains @ symbol or not\"\"\"\n",
    "    if \"@\" in str(l):\n",
    "        return 1\n",
    "    return 0"
   ]
  },
  {
   "cell_type": "code",
   "execution_count": 111,
   "id": "31c9fc3a",
   "metadata": {},
   "outputs": [],
   "source": [
    "splitted_data['having_@_symbol'] = raw_data['URL'].apply(have_at_symbol)"
   ]
  },
  {
   "cell_type": "code",
   "execution_count": 112,
   "id": "024e122a",
   "metadata": {},
   "outputs": [
    {
     "data": {
      "text/html": [
       "<div>\n",
       "<style scoped>\n",
       "    .dataframe tbody tr th:only-of-type {\n",
       "        vertical-align: middle;\n",
       "    }\n",
       "\n",
       "    .dataframe tbody tr th {\n",
       "        vertical-align: top;\n",
       "    }\n",
       "\n",
       "    .dataframe thead th {\n",
       "        text-align: right;\n",
       "    }\n",
       "</style>\n",
       "<table border=\"1\" class=\"dataframe\">\n",
       "  <thead>\n",
       "    <tr style=\"text-align: right;\">\n",
       "      <th></th>\n",
       "      <th>protocol</th>\n",
       "      <th>domain_name</th>\n",
       "      <th>address</th>\n",
       "      <th>is_phished</th>\n",
       "      <th>long_url</th>\n",
       "      <th>having_@_symbol</th>\n",
       "    </tr>\n",
       "  </thead>\n",
       "  <tbody>\n",
       "    <tr>\n",
       "      <th>0</th>\n",
       "      <td>https</td>\n",
       "      <td>locking-app-adverds.000webhostapp.com</td>\n",
       "      <td>payment-update-0.html?fb_source=bookmark_apps&amp;...</td>\n",
       "      <td>yes</td>\n",
       "      <td>1</td>\n",
       "      <td>0</td>\n",
       "    </tr>\n",
       "    <tr>\n",
       "      <th>1</th>\n",
       "      <td>http</td>\n",
       "      <td>www.myhealthcarepharmacy.ca</td>\n",
       "      <td>wp-includes/js/jquery/ini.php</td>\n",
       "      <td>yes</td>\n",
       "      <td>2</td>\n",
       "      <td>0</td>\n",
       "    </tr>\n",
       "    <tr>\n",
       "      <th>2</th>\n",
       "      <td>http</td>\n",
       "      <td>code.google.com</td>\n",
       "      <td>p/pylevenshtein/</td>\n",
       "      <td>no</td>\n",
       "      <td>0</td>\n",
       "      <td>0</td>\n",
       "    </tr>\n",
       "    <tr>\n",
       "      <th>3</th>\n",
       "      <td>http</td>\n",
       "      <td>linkedin.com</td>\n",
       "      <td></td>\n",
       "      <td>no</td>\n",
       "      <td>0</td>\n",
       "      <td>0</td>\n",
       "    </tr>\n",
       "    <tr>\n",
       "      <th>4</th>\n",
       "      <td>http</td>\n",
       "      <td>imageshack.com</td>\n",
       "      <td>f/219/cadir2yr3.jpg</td>\n",
       "      <td>no</td>\n",
       "      <td>0</td>\n",
       "      <td>0</td>\n",
       "    </tr>\n",
       "    <tr>\n",
       "      <th>...</th>\n",
       "      <td>...</td>\n",
       "      <td>...</td>\n",
       "      <td>...</td>\n",
       "      <td>...</td>\n",
       "      <td>...</td>\n",
       "      <td>...</td>\n",
       "    </tr>\n",
       "    <tr>\n",
       "      <th>1776</th>\n",
       "      <td>https</td>\n",
       "      <td>docs.google.com</td>\n",
       "      <td>document/u/1/</td>\n",
       "      <td>no</td>\n",
       "      <td>0</td>\n",
       "      <td>0</td>\n",
       "    </tr>\n",
       "    <tr>\n",
       "      <th>1777</th>\n",
       "      <td>http</td>\n",
       "      <td>www.charlestodd.com</td>\n",
       "      <td>wp-includes/pomo/adobe2.html</td>\n",
       "      <td>yes</td>\n",
       "      <td>2</td>\n",
       "      <td>0</td>\n",
       "    </tr>\n",
       "    <tr>\n",
       "      <th>1778</th>\n",
       "      <td>http</td>\n",
       "      <td>tslimpact.com</td>\n",
       "      <td>medsynaptic/wp-content/themes/twentyseventeen/...</td>\n",
       "      <td>yes</td>\n",
       "      <td>1</td>\n",
       "      <td>0</td>\n",
       "    </tr>\n",
       "    <tr>\n",
       "      <th>1779</th>\n",
       "      <td>http</td>\n",
       "      <td>daoudilorin11.mystagingwebsite.com</td>\n",
       "      <td>wp-content/plugins/ubh/acc/dir/68e1c/dir/car.php</td>\n",
       "      <td>yes</td>\n",
       "      <td>1</td>\n",
       "      <td>0</td>\n",
       "    </tr>\n",
       "    <tr>\n",
       "      <th>1780</th>\n",
       "      <td>https</td>\n",
       "      <td>stom05.ru</td>\n",
       "      <td>asb.co.nz</td>\n",
       "      <td>yes</td>\n",
       "      <td>0</td>\n",
       "      <td>0</td>\n",
       "    </tr>\n",
       "  </tbody>\n",
       "</table>\n",
       "<p>1781 rows × 6 columns</p>\n",
       "</div>"
      ],
      "text/plain": [
       "     protocol                            domain_name  \\\n",
       "0       https  locking-app-adverds.000webhostapp.com   \n",
       "1        http            www.myhealthcarepharmacy.ca   \n",
       "2        http                        code.google.com   \n",
       "3        http                           linkedin.com   \n",
       "4        http                         imageshack.com   \n",
       "...       ...                                    ...   \n",
       "1776    https                        docs.google.com   \n",
       "1777     http                    www.charlestodd.com   \n",
       "1778     http                          tslimpact.com   \n",
       "1779     http     daoudilorin11.mystagingwebsite.com   \n",
       "1780    https                              stom05.ru   \n",
       "\n",
       "                                                address is_phished  long_url  \\\n",
       "0     payment-update-0.html?fb_source=bookmark_apps&...        yes         1   \n",
       "1                         wp-includes/js/jquery/ini.php        yes         2   \n",
       "2                                      p/pylevenshtein/         no         0   \n",
       "3                                                               no         0   \n",
       "4                                   f/219/cadir2yr3.jpg         no         0   \n",
       "...                                                 ...        ...       ...   \n",
       "1776                                      document/u/1/         no         0   \n",
       "1777                       wp-includes/pomo/adobe2.html        yes         2   \n",
       "1778  medsynaptic/wp-content/themes/twentyseventeen/...        yes         1   \n",
       "1779   wp-content/plugins/ubh/acc/dir/68e1c/dir/car.php        yes         1   \n",
       "1780                                          asb.co.nz        yes         0   \n",
       "\n",
       "      having_@_symbol  \n",
       "0                   0  \n",
       "1                   0  \n",
       "2                   0  \n",
       "3                   0  \n",
       "4                   0  \n",
       "...               ...  \n",
       "1776                0  \n",
       "1777                0  \n",
       "1778                0  \n",
       "1779                0  \n",
       "1780                0  \n",
       "\n",
       "[1781 rows x 6 columns]"
      ]
     },
     "execution_count": 112,
     "metadata": {},
     "output_type": "execute_result"
    }
   ],
   "source": [
    "splitted_data"
   ]
  },
  {
   "cell_type": "markdown",
   "id": "3f2397f4",
   "metadata": {},
   "source": [
    "# Feature-3\n",
    "\n",
    "3.Redirecting using “//”\n",
    "\n",
    "The existence of “//” within the URL path means that the user will be redirected to another website. An example of such URL’s is: “http://www.legitimate.com//http://www.phishing.com”. We examine the location where the “//” appears. We find that if the URL starts with “HTTP”, that means the “//” should appear in the sixth position. However, if the URL employs “HTTPS” then the “//” should appear in seventh position.\n",
    "\n",
    "IF {ThePosition of the Last Occurrence of \"//\" in the URL > 7→ Phishing\n",
    "\n",
    "Otherwise→ Legitimate\n",
    "0 --- indicates legitimate\n",
    "\n",
    "1 --- indicates Phishing"
   ]
  },
  {
   "cell_type": "code",
   "execution_count": 113,
   "id": "c6f261f1",
   "metadata": {},
   "outputs": [],
   "source": [
    "def redirection(l):\n",
    "    \"\"\"If the url has symbol(//) after protocol then such URL is to be classified as phishing \"\"\"\n",
    "    if \"//\" in str(l):\n",
    "        return 1\n",
    "    return 0"
   ]
  },
  {
   "cell_type": "code",
   "execution_count": 114,
   "id": "8147d4db",
   "metadata": {},
   "outputs": [],
   "source": [
    "splitted_data['redirection_//_symbol'] = seperation_of_protocol[1].apply(redirection)"
   ]
  },
  {
   "cell_type": "code",
   "execution_count": 115,
   "id": "a4d55235",
   "metadata": {},
   "outputs": [
    {
     "data": {
      "text/html": [
       "<div>\n",
       "<style scoped>\n",
       "    .dataframe tbody tr th:only-of-type {\n",
       "        vertical-align: middle;\n",
       "    }\n",
       "\n",
       "    .dataframe tbody tr th {\n",
       "        vertical-align: top;\n",
       "    }\n",
       "\n",
       "    .dataframe thead th {\n",
       "        text-align: right;\n",
       "    }\n",
       "</style>\n",
       "<table border=\"1\" class=\"dataframe\">\n",
       "  <thead>\n",
       "    <tr style=\"text-align: right;\">\n",
       "      <th></th>\n",
       "      <th>protocol</th>\n",
       "      <th>domain_name</th>\n",
       "      <th>address</th>\n",
       "      <th>is_phished</th>\n",
       "      <th>long_url</th>\n",
       "      <th>having_@_symbol</th>\n",
       "      <th>redirection_//_symbol</th>\n",
       "    </tr>\n",
       "  </thead>\n",
       "  <tbody>\n",
       "    <tr>\n",
       "      <th>0</th>\n",
       "      <td>https</td>\n",
       "      <td>locking-app-adverds.000webhostapp.com</td>\n",
       "      <td>payment-update-0.html?fb_source=bookmark_apps&amp;...</td>\n",
       "      <td>yes</td>\n",
       "      <td>1</td>\n",
       "      <td>0</td>\n",
       "      <td>0</td>\n",
       "    </tr>\n",
       "    <tr>\n",
       "      <th>1</th>\n",
       "      <td>http</td>\n",
       "      <td>www.myhealthcarepharmacy.ca</td>\n",
       "      <td>wp-includes/js/jquery/ini.php</td>\n",
       "      <td>yes</td>\n",
       "      <td>2</td>\n",
       "      <td>0</td>\n",
       "      <td>0</td>\n",
       "    </tr>\n",
       "    <tr>\n",
       "      <th>2</th>\n",
       "      <td>http</td>\n",
       "      <td>code.google.com</td>\n",
       "      <td>p/pylevenshtein/</td>\n",
       "      <td>no</td>\n",
       "      <td>0</td>\n",
       "      <td>0</td>\n",
       "      <td>0</td>\n",
       "    </tr>\n",
       "    <tr>\n",
       "      <th>3</th>\n",
       "      <td>http</td>\n",
       "      <td>linkedin.com</td>\n",
       "      <td></td>\n",
       "      <td>no</td>\n",
       "      <td>0</td>\n",
       "      <td>0</td>\n",
       "      <td>0</td>\n",
       "    </tr>\n",
       "    <tr>\n",
       "      <th>4</th>\n",
       "      <td>http</td>\n",
       "      <td>imageshack.com</td>\n",
       "      <td>f/219/cadir2yr3.jpg</td>\n",
       "      <td>no</td>\n",
       "      <td>0</td>\n",
       "      <td>0</td>\n",
       "      <td>0</td>\n",
       "    </tr>\n",
       "  </tbody>\n",
       "</table>\n",
       "</div>"
      ],
      "text/plain": [
       "  protocol                            domain_name  \\\n",
       "0    https  locking-app-adverds.000webhostapp.com   \n",
       "1     http            www.myhealthcarepharmacy.ca   \n",
       "2     http                        code.google.com   \n",
       "3     http                           linkedin.com   \n",
       "4     http                         imageshack.com   \n",
       "\n",
       "                                             address is_phished  long_url  \\\n",
       "0  payment-update-0.html?fb_source=bookmark_apps&...        yes         1   \n",
       "1                      wp-includes/js/jquery/ini.php        yes         2   \n",
       "2                                   p/pylevenshtein/         no         0   \n",
       "3                                                            no         0   \n",
       "4                                f/219/cadir2yr3.jpg         no         0   \n",
       "\n",
       "   having_@_symbol  redirection_//_symbol  \n",
       "0                0                      0  \n",
       "1                0                      0  \n",
       "2                0                      0  \n",
       "3                0                      0  \n",
       "4                0                      0  "
      ]
     },
     "execution_count": 115,
     "metadata": {},
     "output_type": "execute_result"
    }
   ],
   "source": [
    "splitted_data.head()"
   ]
  },
  {
   "cell_type": "markdown",
   "id": "3d34b8bd",
   "metadata": {},
   "source": [
    "# Feature-4\n",
    "\n",
    "4.Adding Prefix or Suffix Separated by (-) to the Domain\n",
    "\n",
    "The dash symbol is rarely used in legitimate URLs. Phishers tend to add prefixes or suffixes separated by (-) to the domain name so that users feel that they are dealing with a legitimate webpage.\n",
    "\n",
    "For example http://www.Confirme-paypal.com/.\n",
    "\n",
    "IF {Domain Name Part Includes (−) Symbol → Phishing\n",
    "\n",
    "Otherwise → Legitimate\n",
    "1 --> indicates phishing\n",
    "\n",
    "0 --> indicates legitimate"
   ]
  },
  {
   "cell_type": "code",
   "execution_count": 116,
   "id": "e3a7bf06",
   "metadata": {},
   "outputs": [],
   "source": [
    "def prefix_suffix_seperation(l):\n",
    "    if '-' in str(l):\n",
    "        return 1\n",
    "    return 0"
   ]
  },
  {
   "cell_type": "code",
   "execution_count": 117,
   "id": "a0703198",
   "metadata": {},
   "outputs": [],
   "source": [
    "splitted_data['prefix_suffix_seperation'] = seperation_domain_name['domain_name'].apply(prefix_suffix_seperation)"
   ]
  },
  {
   "cell_type": "code",
   "execution_count": 118,
   "id": "1883b079",
   "metadata": {},
   "outputs": [
    {
     "data": {
      "text/html": [
       "<div>\n",
       "<style scoped>\n",
       "    .dataframe tbody tr th:only-of-type {\n",
       "        vertical-align: middle;\n",
       "    }\n",
       "\n",
       "    .dataframe tbody tr th {\n",
       "        vertical-align: top;\n",
       "    }\n",
       "\n",
       "    .dataframe thead th {\n",
       "        text-align: right;\n",
       "    }\n",
       "</style>\n",
       "<table border=\"1\" class=\"dataframe\">\n",
       "  <thead>\n",
       "    <tr style=\"text-align: right;\">\n",
       "      <th></th>\n",
       "      <th>protocol</th>\n",
       "      <th>domain_name</th>\n",
       "      <th>address</th>\n",
       "      <th>is_phished</th>\n",
       "      <th>long_url</th>\n",
       "      <th>having_@_symbol</th>\n",
       "      <th>redirection_//_symbol</th>\n",
       "      <th>prefix_suffix_seperation</th>\n",
       "    </tr>\n",
       "  </thead>\n",
       "  <tbody>\n",
       "    <tr>\n",
       "      <th>0</th>\n",
       "      <td>https</td>\n",
       "      <td>locking-app-adverds.000webhostapp.com</td>\n",
       "      <td>payment-update-0.html?fb_source=bookmark_apps&amp;...</td>\n",
       "      <td>yes</td>\n",
       "      <td>1</td>\n",
       "      <td>0</td>\n",
       "      <td>0</td>\n",
       "      <td>1</td>\n",
       "    </tr>\n",
       "    <tr>\n",
       "      <th>1</th>\n",
       "      <td>http</td>\n",
       "      <td>www.myhealthcarepharmacy.ca</td>\n",
       "      <td>wp-includes/js/jquery/ini.php</td>\n",
       "      <td>yes</td>\n",
       "      <td>2</td>\n",
       "      <td>0</td>\n",
       "      <td>0</td>\n",
       "      <td>0</td>\n",
       "    </tr>\n",
       "    <tr>\n",
       "      <th>2</th>\n",
       "      <td>http</td>\n",
       "      <td>code.google.com</td>\n",
       "      <td>p/pylevenshtein/</td>\n",
       "      <td>no</td>\n",
       "      <td>0</td>\n",
       "      <td>0</td>\n",
       "      <td>0</td>\n",
       "      <td>0</td>\n",
       "    </tr>\n",
       "    <tr>\n",
       "      <th>3</th>\n",
       "      <td>http</td>\n",
       "      <td>linkedin.com</td>\n",
       "      <td></td>\n",
       "      <td>no</td>\n",
       "      <td>0</td>\n",
       "      <td>0</td>\n",
       "      <td>0</td>\n",
       "      <td>0</td>\n",
       "    </tr>\n",
       "    <tr>\n",
       "      <th>4</th>\n",
       "      <td>http</td>\n",
       "      <td>imageshack.com</td>\n",
       "      <td>f/219/cadir2yr3.jpg</td>\n",
       "      <td>no</td>\n",
       "      <td>0</td>\n",
       "      <td>0</td>\n",
       "      <td>0</td>\n",
       "      <td>0</td>\n",
       "    </tr>\n",
       "  </tbody>\n",
       "</table>\n",
       "</div>"
      ],
      "text/plain": [
       "  protocol                            domain_name  \\\n",
       "0    https  locking-app-adverds.000webhostapp.com   \n",
       "1     http            www.myhealthcarepharmacy.ca   \n",
       "2     http                        code.google.com   \n",
       "3     http                           linkedin.com   \n",
       "4     http                         imageshack.com   \n",
       "\n",
       "                                             address is_phished  long_url  \\\n",
       "0  payment-update-0.html?fb_source=bookmark_apps&...        yes         1   \n",
       "1                      wp-includes/js/jquery/ini.php        yes         2   \n",
       "2                                   p/pylevenshtein/         no         0   \n",
       "3                                                            no         0   \n",
       "4                                f/219/cadir2yr3.jpg         no         0   \n",
       "\n",
       "   having_@_symbol  redirection_//_symbol  prefix_suffix_seperation  \n",
       "0                0                      0                         1  \n",
       "1                0                      0                         0  \n",
       "2                0                      0                         0  \n",
       "3                0                      0                         0  \n",
       "4                0                      0                         0  "
      ]
     },
     "execution_count": 118,
     "metadata": {},
     "output_type": "execute_result"
    }
   ],
   "source": [
    "splitted_data.head()"
   ]
  },
  {
   "cell_type": "markdown",
   "id": "9bfafc10",
   "metadata": {},
   "source": [
    "# Feature - 5\n",
    "\n",
    "Sub-Domain and Multi Sub-Domains\n",
    "The legitimate URL link has two dots in the URL since we can ignore typing “www.”. If the number of dots is equal to three then the URL is classified as “Suspicious” since it has one sub-domain. However, if the dots are greater than three it is classified as “Phishy” since it will have multiple sub-domains\n",
    "\n",
    "0 --- indicates legitimate\n",
    "\n",
    "1 --- indicates Phishing\n",
    "\n",
    "2 --- indicates Suspicious\n",
    "\n"
   ]
  },
  {
   "cell_type": "code",
   "execution_count": 119,
   "id": "ffbfa842",
   "metadata": {},
   "outputs": [],
   "source": [
    "def sub_domains(l):\n",
    "    l= str(l)\n",
    "    if l.count('.') < 3:\n",
    "        return 0\n",
    "    elif l.count('.') == 3:\n",
    "        return 2\n",
    "    return 1"
   ]
  },
  {
   "cell_type": "code",
   "execution_count": 120,
   "id": "e46804c7",
   "metadata": {},
   "outputs": [],
   "source": [
    "splitted_data['sub_domains'] = splitted_data['domain_name'].apply(sub_domains)"
   ]
  },
  {
   "cell_type": "code",
   "execution_count": 121,
   "id": "93a9d07d",
   "metadata": {},
   "outputs": [
    {
     "data": {
      "text/html": [
       "<div>\n",
       "<style scoped>\n",
       "    .dataframe tbody tr th:only-of-type {\n",
       "        vertical-align: middle;\n",
       "    }\n",
       "\n",
       "    .dataframe tbody tr th {\n",
       "        vertical-align: top;\n",
       "    }\n",
       "\n",
       "    .dataframe thead th {\n",
       "        text-align: right;\n",
       "    }\n",
       "</style>\n",
       "<table border=\"1\" class=\"dataframe\">\n",
       "  <thead>\n",
       "    <tr style=\"text-align: right;\">\n",
       "      <th></th>\n",
       "      <th>protocol</th>\n",
       "      <th>domain_name</th>\n",
       "      <th>address</th>\n",
       "      <th>is_phished</th>\n",
       "      <th>long_url</th>\n",
       "      <th>having_@_symbol</th>\n",
       "      <th>redirection_//_symbol</th>\n",
       "      <th>prefix_suffix_seperation</th>\n",
       "      <th>sub_domains</th>\n",
       "    </tr>\n",
       "  </thead>\n",
       "  <tbody>\n",
       "    <tr>\n",
       "      <th>0</th>\n",
       "      <td>https</td>\n",
       "      <td>locking-app-adverds.000webhostapp.com</td>\n",
       "      <td>payment-update-0.html?fb_source=bookmark_apps&amp;...</td>\n",
       "      <td>yes</td>\n",
       "      <td>1</td>\n",
       "      <td>0</td>\n",
       "      <td>0</td>\n",
       "      <td>1</td>\n",
       "      <td>0</td>\n",
       "    </tr>\n",
       "    <tr>\n",
       "      <th>1</th>\n",
       "      <td>http</td>\n",
       "      <td>www.myhealthcarepharmacy.ca</td>\n",
       "      <td>wp-includes/js/jquery/ini.php</td>\n",
       "      <td>yes</td>\n",
       "      <td>2</td>\n",
       "      <td>0</td>\n",
       "      <td>0</td>\n",
       "      <td>0</td>\n",
       "      <td>0</td>\n",
       "    </tr>\n",
       "    <tr>\n",
       "      <th>2</th>\n",
       "      <td>http</td>\n",
       "      <td>code.google.com</td>\n",
       "      <td>p/pylevenshtein/</td>\n",
       "      <td>no</td>\n",
       "      <td>0</td>\n",
       "      <td>0</td>\n",
       "      <td>0</td>\n",
       "      <td>0</td>\n",
       "      <td>0</td>\n",
       "    </tr>\n",
       "    <tr>\n",
       "      <th>3</th>\n",
       "      <td>http</td>\n",
       "      <td>linkedin.com</td>\n",
       "      <td></td>\n",
       "      <td>no</td>\n",
       "      <td>0</td>\n",
       "      <td>0</td>\n",
       "      <td>0</td>\n",
       "      <td>0</td>\n",
       "      <td>0</td>\n",
       "    </tr>\n",
       "    <tr>\n",
       "      <th>4</th>\n",
       "      <td>http</td>\n",
       "      <td>imageshack.com</td>\n",
       "      <td>f/219/cadir2yr3.jpg</td>\n",
       "      <td>no</td>\n",
       "      <td>0</td>\n",
       "      <td>0</td>\n",
       "      <td>0</td>\n",
       "      <td>0</td>\n",
       "      <td>0</td>\n",
       "    </tr>\n",
       "    <tr>\n",
       "      <th>...</th>\n",
       "      <td>...</td>\n",
       "      <td>...</td>\n",
       "      <td>...</td>\n",
       "      <td>...</td>\n",
       "      <td>...</td>\n",
       "      <td>...</td>\n",
       "      <td>...</td>\n",
       "      <td>...</td>\n",
       "      <td>...</td>\n",
       "    </tr>\n",
       "    <tr>\n",
       "      <th>1776</th>\n",
       "      <td>https</td>\n",
       "      <td>docs.google.com</td>\n",
       "      <td>document/u/1/</td>\n",
       "      <td>no</td>\n",
       "      <td>0</td>\n",
       "      <td>0</td>\n",
       "      <td>0</td>\n",
       "      <td>0</td>\n",
       "      <td>0</td>\n",
       "    </tr>\n",
       "    <tr>\n",
       "      <th>1777</th>\n",
       "      <td>http</td>\n",
       "      <td>www.charlestodd.com</td>\n",
       "      <td>wp-includes/pomo/adobe2.html</td>\n",
       "      <td>yes</td>\n",
       "      <td>2</td>\n",
       "      <td>0</td>\n",
       "      <td>0</td>\n",
       "      <td>0</td>\n",
       "      <td>0</td>\n",
       "    </tr>\n",
       "    <tr>\n",
       "      <th>1778</th>\n",
       "      <td>http</td>\n",
       "      <td>tslimpact.com</td>\n",
       "      <td>medsynaptic/wp-content/themes/twentyseventeen/...</td>\n",
       "      <td>yes</td>\n",
       "      <td>1</td>\n",
       "      <td>0</td>\n",
       "      <td>0</td>\n",
       "      <td>0</td>\n",
       "      <td>0</td>\n",
       "    </tr>\n",
       "    <tr>\n",
       "      <th>1779</th>\n",
       "      <td>http</td>\n",
       "      <td>daoudilorin11.mystagingwebsite.com</td>\n",
       "      <td>wp-content/plugins/ubh/acc/dir/68e1c/dir/car.php</td>\n",
       "      <td>yes</td>\n",
       "      <td>1</td>\n",
       "      <td>0</td>\n",
       "      <td>0</td>\n",
       "      <td>0</td>\n",
       "      <td>0</td>\n",
       "    </tr>\n",
       "    <tr>\n",
       "      <th>1780</th>\n",
       "      <td>https</td>\n",
       "      <td>stom05.ru</td>\n",
       "      <td>asb.co.nz</td>\n",
       "      <td>yes</td>\n",
       "      <td>0</td>\n",
       "      <td>0</td>\n",
       "      <td>0</td>\n",
       "      <td>0</td>\n",
       "      <td>0</td>\n",
       "    </tr>\n",
       "  </tbody>\n",
       "</table>\n",
       "<p>1781 rows × 9 columns</p>\n",
       "</div>"
      ],
      "text/plain": [
       "     protocol                            domain_name  \\\n",
       "0       https  locking-app-adverds.000webhostapp.com   \n",
       "1        http            www.myhealthcarepharmacy.ca   \n",
       "2        http                        code.google.com   \n",
       "3        http                           linkedin.com   \n",
       "4        http                         imageshack.com   \n",
       "...       ...                                    ...   \n",
       "1776    https                        docs.google.com   \n",
       "1777     http                    www.charlestodd.com   \n",
       "1778     http                          tslimpact.com   \n",
       "1779     http     daoudilorin11.mystagingwebsite.com   \n",
       "1780    https                              stom05.ru   \n",
       "\n",
       "                                                address is_phished  long_url  \\\n",
       "0     payment-update-0.html?fb_source=bookmark_apps&...        yes         1   \n",
       "1                         wp-includes/js/jquery/ini.php        yes         2   \n",
       "2                                      p/pylevenshtein/         no         0   \n",
       "3                                                               no         0   \n",
       "4                                   f/219/cadir2yr3.jpg         no         0   \n",
       "...                                                 ...        ...       ...   \n",
       "1776                                      document/u/1/         no         0   \n",
       "1777                       wp-includes/pomo/adobe2.html        yes         2   \n",
       "1778  medsynaptic/wp-content/themes/twentyseventeen/...        yes         1   \n",
       "1779   wp-content/plugins/ubh/acc/dir/68e1c/dir/car.php        yes         1   \n",
       "1780                                          asb.co.nz        yes         0   \n",
       "\n",
       "      having_@_symbol  redirection_//_symbol  prefix_suffix_seperation  \\\n",
       "0                   0                      0                         1   \n",
       "1                   0                      0                         0   \n",
       "2                   0                      0                         0   \n",
       "3                   0                      0                         0   \n",
       "4                   0                      0                         0   \n",
       "...               ...                    ...                       ...   \n",
       "1776                0                      0                         0   \n",
       "1777                0                      0                         0   \n",
       "1778                0                      0                         0   \n",
       "1779                0                      0                         0   \n",
       "1780                0                      0                         0   \n",
       "\n",
       "      sub_domains  \n",
       "0               0  \n",
       "1               0  \n",
       "2               0  \n",
       "3               0  \n",
       "4               0  \n",
       "...           ...  \n",
       "1776            0  \n",
       "1777            0  \n",
       "1778            0  \n",
       "1779            0  \n",
       "1780            0  \n",
       "\n",
       "[1781 rows x 9 columns]"
      ]
     },
     "execution_count": 121,
     "metadata": {},
     "output_type": "execute_result"
    }
   ],
   "source": [
    "splitted_data"
   ]
  },
  {
   "cell_type": "markdown",
   "id": "e312c076",
   "metadata": {},
   "source": [
    "# Classification of URLs using BAGGING CLASSIFIER"
   ]
  },
  {
   "cell_type": "code",
   "execution_count": 124,
   "id": "a2a84e6f",
   "metadata": {},
   "outputs": [],
   "source": [
    "from sklearn.ensemble import BaggingClassifier\n",
    "from sklearn.ensemble import ExtraTreesClassifier\n",
    "from sklearn.linear_model import LogisticRegression\n",
    "\n",
    "\n",
    "from sklearn.metrics import confusion_matrix, accuracy_score"
   ]
  },
  {
   "cell_type": "code",
   "execution_count": 125,
   "id": "6f7fba6a",
   "metadata": {},
   "outputs": [
    {
     "data": {
      "text/plain": [
       "Index(['long_url', 'having_@_symbol', 'redirection_//_symbol',\n",
       "       'prefix_suffix_seperation', 'sub_domains'],\n",
       "      dtype='object')"
      ]
     },
     "execution_count": 125,
     "metadata": {},
     "output_type": "execute_result"
    }
   ],
   "source": [
    "#Features\n",
    "x = splitted_data.columns[4:9]\n",
    "x   "
   ]
  },
  {
   "cell_type": "code",
   "execution_count": 126,
   "id": "b9e4dc11",
   "metadata": {},
   "outputs": [
    {
     "data": {
      "text/plain": [
       "array([0, 0, 1, ..., 0, 0, 0], dtype=int64)"
      ]
     },
     "execution_count": 126,
     "metadata": {},
     "output_type": "execute_result"
    }
   ],
   "source": [
    "#variable to be predicted; yes = 0 and no = 1\n",
    "y = pd.factorize(splitted_data['is_phished'])[0]\n",
    "y "
   ]
  },
  {
   "cell_type": "markdown",
   "id": "e7a35345",
   "metadata": {},
   "source": [
    "# BAGGING CLASSIFIER\n",
    "A Bagging classifier is an ensemble meta-estimator that fits base classifiers each on random subsets of the original dataset and then aggregate their individual predictions (either by voting or by averaging) to form a final prediction. Such a meta-estimator can typically be used as a way to reduce the variance of a black-box estimator (e.g., a decision tree), by introducing randomization into its construction procedure and then making an ensemble out of it."
   ]
  },
  {
   "cell_type": "code",
   "execution_count": 127,
   "id": "555fa199",
   "metadata": {},
   "outputs": [
    {
     "data": {
      "text/plain": [
       "BaggingClassifier(n_estimators=100)"
      ]
     },
     "execution_count": 127,
     "metadata": {},
     "output_type": "execute_result"
    }
   ],
   "source": [
    "# Create a random forest Classifier. By convention, clf means 'Classifier'\n",
    "clf = BaggingClassifier(n_estimators=100)\n",
    "\n",
    "\n",
    "# Train the Classifier to take the training features and learn how they relate\n",
    "# to the training y (the species)\n",
    "clf.fit(splitted_data[x], y)\n",
    "\n"
   ]
  },
  {
   "cell_type": "markdown",
   "id": "255920fe",
   "metadata": {},
   "source": [
    "# Extremely Randomized Trees Classifier(Extra Trees Classifier)\n",
    "It is a type of ensemble learning technique which aggregates the results of multiple de-correlated decision trees collected in a “forest” to output it’s classification result. In concept, it is very similar to a Random Forest Classifier and only differs from it in the manner of construction of the decision trees in the forest. "
   ]
  },
  {
   "cell_type": "code",
   "execution_count": 128,
   "id": "616e3d93",
   "metadata": {},
   "outputs": [
    {
     "data": {
      "text/plain": [
       "ExtraTreesClassifier(n_estimators=10, random_state=0)"
      ]
     },
     "execution_count": 128,
     "metadata": {},
     "output_type": "execute_result"
    }
   ],
   "source": [
    "gbc=ExtraTreesClassifier(n_estimators=10, max_depth=None,\n",
    "...     min_samples_split=2, random_state=0)\n",
    "gbc.fit(splitted_data[x], y)"
   ]
  },
  {
   "cell_type": "markdown",
   "id": "642b9987",
   "metadata": {},
   "source": [
    "# LOGISTIC REGRESSION\n",
    "Logistic regression is a process of modeling the probability of a discrete outcome given an input variable. The most common logistic regression models a binary outcome; something that can take two values such as true/false, yes/no, and so on."
   ]
  },
  {
   "cell_type": "code",
   "execution_count": 129,
   "id": "8226f7c1",
   "metadata": {},
   "outputs": [
    {
     "data": {
      "text/plain": [
       "LogisticRegression(penalty='l1', solver='liblinear')"
      ]
     },
     "execution_count": 129,
     "metadata": {},
     "output_type": "execute_result"
    }
   ],
   "source": [
    "lrm = LogisticRegression(solver='liblinear',penalty='l1',max_iter=100, dual=False)\n",
    "lrm.fit(splitted_data[x], y)"
   ]
  },
  {
   "cell_type": "code",
   "execution_count": 130,
   "id": "44251fb0",
   "metadata": {},
   "outputs": [],
   "source": [
    "test_data = pd.read_csv(\"C:\\\\Users\\\\AKASH\\\\Desktop\\\\dataset3.csv\") "
   ]
  },
  {
   "cell_type": "code",
   "execution_count": 131,
   "id": "73edb9e9",
   "metadata": {},
   "outputs": [
    {
     "data": {
      "text/plain": [
       "array([0, 0, 1, 0, 1, 1, 0, 1, 1, 1, 1, 0, 0, 0, 0, 0, 1, 0, 0, 0, 0, 0,\n",
       "       0, 0, 0, 1, 1, 1, 0, 0, 1, 0, 1, 1, 1, 1, 0, 1, 0, 0, 1, 0, 0, 0,\n",
       "       0, 1, 0, 0, 0, 1, 1, 0, 1, 0, 1, 0, 1, 0, 0, 0, 0, 0, 0, 0, 0, 1,\n",
       "       1, 0, 1, 1, 1, 1, 1, 0, 1, 1, 1, 1, 0, 0, 1, 0, 1, 0, 0, 1, 0, 1,\n",
       "       0, 1, 1, 1, 1, 0, 1, 0, 1, 1, 0, 0, 0, 1, 1, 1, 0, 0, 1, 0, 0, 0,\n",
       "       0, 1, 0, 0, 0, 0, 0, 0, 1, 0, 0, 0, 0, 1, 1, 0, 0, 1, 0, 1, 1, 1,\n",
       "       0, 0, 0, 0, 1, 1, 0, 0, 0, 1, 0, 1, 1, 0, 0, 0, 1, 0, 1, 1, 0, 0,\n",
       "       0, 1, 1, 1, 0, 1, 1, 0, 0, 0, 0, 1, 0, 1, 0, 1, 0, 0, 0, 0, 0, 0,\n",
       "       0, 0, 1, 0, 0, 0, 0, 0, 1, 0, 0, 0, 0, 0, 1, 1, 0, 0, 1, 1, 1, 0,\n",
       "       0, 1, 0, 1, 0, 0, 0, 0, 1, 0, 1, 1, 0, 0, 0, 0, 0, 1, 1, 1, 0, 0,\n",
       "       0, 0, 1, 0, 1, 0, 0, 0, 0, 1, 0, 1, 1, 0, 0, 0, 0, 0, 0, 1, 1, 1,\n",
       "       0, 1, 0, 0, 1, 0, 0, 1, 0, 0, 0, 0, 0, 0, 0, 0, 1, 0, 1, 0, 0, 0,\n",
       "       0, 0, 0, 1, 1, 0, 0, 0, 0, 1, 0, 0, 1, 1, 1, 1, 0, 1, 0, 1, 0, 0,\n",
       "       0, 0, 1, 0, 1, 0, 0, 1, 0, 1, 1, 1, 0, 0, 1, 1, 0, 0, 1, 0, 0, 1,\n",
       "       1, 1, 1, 0, 1, 0, 0, 0, 0, 1, 1, 1, 0, 0, 0, 1, 0, 0, 0, 0, 0, 1,\n",
       "       1, 1, 0, 0, 0, 0, 1, 1, 1, 0, 1, 0, 0, 0, 1, 1, 0, 1, 1, 1, 1, 0,\n",
       "       0, 0, 1, 0, 0, 0, 0, 0, 1, 1, 0, 1, 1, 0, 0, 0, 1, 0, 0, 1, 0, 0,\n",
       "       0, 0, 1, 0, 1, 1, 1, 0, 1, 0, 0, 0, 1, 1, 1, 1], dtype=int64)"
      ]
     },
     "execution_count": 131,
     "metadata": {},
     "output_type": "execute_result"
    }
   ],
   "source": [
    "clf.predict(test_data[x]) #testing the classifier on test data."
   ]
  },
  {
   "cell_type": "code",
   "execution_count": 132,
   "id": "c1f1da04",
   "metadata": {},
   "outputs": [
    {
     "data": {
      "text/plain": [
       "array([0, 0, 1, 0, 1, 1, 0, 1, 1, 1, 1, 0, 0, 0, 0, 0, 1, 0, 0, 0, 0, 0,\n",
       "       0, 0, 0, 1, 1, 1, 0, 0, 1, 0, 1, 1, 1, 1, 0, 1, 0, 0, 1, 0, 0, 0,\n",
       "       0, 1, 0, 0, 0, 1, 1, 0, 1, 0, 1, 0, 0, 0, 0, 0, 0, 0, 0, 0, 0, 1,\n",
       "       0, 0, 1, 1, 1, 1, 1, 0, 1, 1, 1, 1, 0, 0, 1, 0, 1, 0, 0, 1, 0, 1,\n",
       "       0, 1, 1, 1, 1, 0, 1, 0, 1, 1, 0, 0, 0, 1, 1, 1, 0, 0, 0, 0, 0, 0,\n",
       "       0, 1, 0, 0, 0, 0, 0, 0, 1, 0, 0, 0, 0, 1, 1, 0, 0, 1, 0, 1, 1, 0,\n",
       "       0, 0, 0, 0, 1, 1, 0, 0, 0, 1, 0, 1, 1, 0, 0, 0, 1, 0, 1, 1, 0, 0,\n",
       "       0, 1, 1, 1, 0, 1, 1, 0, 0, 0, 0, 1, 0, 1, 0, 1, 0, 0, 0, 0, 0, 0,\n",
       "       0, 0, 1, 0, 0, 0, 0, 0, 1, 0, 0, 0, 0, 0, 1, 1, 0, 0, 1, 0, 1, 0,\n",
       "       0, 1, 0, 1, 0, 0, 0, 0, 1, 0, 1, 1, 0, 0, 0, 0, 0, 1, 1, 1, 0, 0,\n",
       "       0, 0, 1, 0, 1, 0, 0, 0, 0, 1, 0, 1, 1, 0, 0, 0, 0, 0, 0, 1, 1, 1,\n",
       "       0, 1, 0, 0, 0, 0, 0, 1, 0, 0, 0, 0, 0, 0, 0, 0, 1, 0, 1, 0, 0, 0,\n",
       "       0, 0, 0, 1, 1, 0, 0, 0, 0, 1, 0, 0, 1, 1, 1, 1, 0, 1, 0, 1, 0, 0,\n",
       "       0, 0, 1, 0, 1, 0, 0, 1, 0, 1, 1, 1, 0, 0, 1, 1, 0, 0, 1, 0, 0, 1,\n",
       "       1, 1, 1, 0, 1, 0, 0, 0, 0, 1, 1, 1, 0, 0, 0, 1, 0, 0, 0, 0, 0, 1,\n",
       "       1, 1, 0, 0, 0, 0, 1, 1, 1, 0, 1, 0, 0, 0, 1, 1, 0, 1, 1, 1, 1, 0,\n",
       "       0, 0, 1, 0, 0, 0, 0, 0, 1, 1, 0, 1, 1, 0, 0, 0, 1, 0, 0, 1, 0, 0,\n",
       "       0, 0, 1, 0, 1, 1, 1, 0, 1, 0, 0, 0, 1, 1, 1, 1], dtype=int64)"
      ]
     },
     "execution_count": 132,
     "metadata": {},
     "output_type": "execute_result"
    }
   ],
   "source": [
    "gbc.predict(test_data[x]) #testing the classifier on test data."
   ]
  },
  {
   "cell_type": "code",
   "execution_count": 133,
   "id": "29f5c7dc",
   "metadata": {},
   "outputs": [
    {
     "data": {
      "text/plain": [
       "array([0, 1, 1, 1, 1, 1, 0, 1, 1, 1, 1, 0, 1, 1, 1, 0, 1, 0, 1, 1, 1, 1,\n",
       "       1, 0, 0, 1, 1, 1, 0, 0, 1, 1, 1, 1, 1, 1, 0, 1, 1, 1, 1, 1, 0, 1,\n",
       "       1, 1, 1, 1, 1, 1, 1, 0, 1, 1, 1, 1, 0, 1, 1, 1, 0, 0, 1, 0, 1, 1,\n",
       "       0, 0, 1, 1, 1, 1, 1, 0, 1, 1, 1, 1, 0, 1, 1, 1, 1, 0, 1, 1, 0, 1,\n",
       "       0, 1, 1, 1, 1, 0, 1, 1, 1, 1, 1, 0, 0, 1, 1, 1, 1, 1, 0, 0, 0, 1,\n",
       "       1, 1, 1, 1, 0, 1, 0, 1, 1, 0, 1, 0, 1, 1, 1, 1, 1, 1, 1, 1, 1, 0,\n",
       "       1, 0, 1, 1, 1, 1, 0, 0, 0, 1, 1, 1, 1, 1, 1, 0, 1, 0, 1, 1, 0, 1,\n",
       "       1, 1, 1, 1, 0, 1, 1, 1, 0, 1, 1, 1, 1, 1, 0, 1, 1, 1, 0, 0, 0, 1,\n",
       "       0, 0, 1, 1, 1, 0, 0, 1, 1, 1, 1, 0, 1, 0, 1, 1, 0, 0, 1, 0, 1, 1,\n",
       "       1, 1, 1, 1, 1, 0, 0, 0, 1, 1, 1, 1, 0, 0, 1, 0, 1, 1, 1, 1, 0, 0,\n",
       "       1, 1, 1, 1, 1, 0, 0, 1, 1, 1, 0, 1, 1, 1, 1, 0, 0, 0, 1, 1, 1, 1,\n",
       "       0, 1, 1, 0, 0, 1, 0, 1, 0, 1, 1, 0, 1, 0, 1, 0, 1, 1, 1, 0, 1, 1,\n",
       "       0, 1, 1, 1, 1, 1, 0, 0, 0, 1, 1, 1, 1, 1, 1, 1, 0, 1, 0, 1, 0, 0,\n",
       "       0, 0, 1, 0, 1, 1, 1, 1, 0, 1, 1, 1, 1, 0, 1, 1, 0, 0, 1, 0, 0, 1,\n",
       "       1, 1, 1, 0, 1, 1, 0, 0, 1, 1, 1, 1, 1, 1, 0, 1, 1, 1, 0, 0, 0, 1,\n",
       "       1, 0, 1, 1, 1, 0, 1, 1, 1, 0, 1, 1, 1, 1, 1, 1, 1, 1, 1, 1, 1, 1,\n",
       "       1, 0, 1, 0, 1, 0, 1, 1, 1, 1, 0, 1, 1, 1, 0, 1, 1, 1, 0, 1, 0, 1,\n",
       "       1, 0, 1, 0, 1, 1, 1, 0, 1, 0, 0, 1, 1, 1, 1, 1], dtype=int64)"
      ]
     },
     "execution_count": 133,
     "metadata": {},
     "output_type": "execute_result"
    }
   ],
   "source": [
    "lrm.predict(test_data[x]) #testing the classifier on test data."
   ]
  },
  {
   "cell_type": "code",
   "execution_count": 134,
   "id": "d975b134",
   "metadata": {},
   "outputs": [
    {
     "data": {
      "text/plain": [
       "array([[0.        , 0.88389456, 0.11610544],\n",
       "       [0.        , 0.50512098, 0.49487902],\n",
       "       [0.00166678, 0.32373504, 0.67459818],\n",
       "       ...,\n",
       "       [0.00166678, 0.32373504, 0.67459818],\n",
       "       [0.        , 0.39409873, 0.60590127],\n",
       "       [0.00166678, 0.32373504, 0.67459818]])"
      ]
     },
     "execution_count": 134,
     "metadata": {},
     "output_type": "execute_result"
    }
   ],
   "source": [
    "clf.predict_proba(test_data[x])[0:] #predicted probability for each class from random forest."
   ]
  },
  {
   "cell_type": "code",
   "execution_count": 135,
   "id": "bb9dc6ec",
   "metadata": {},
   "outputs": [
    {
     "data": {
      "text/plain": [
       "array([[0.        , 0.88135593, 0.11864407],\n",
       "       [0.        , 0.50614754, 0.49385246],\n",
       "       [0.00153846, 0.32153846, 0.67692308],\n",
       "       ...,\n",
       "       [0.00153846, 0.32153846, 0.67692308],\n",
       "       [0.        , 0.38636364, 0.61363636],\n",
       "       [0.00153846, 0.32153846, 0.67692308]])"
      ]
     },
     "execution_count": 135,
     "metadata": {},
     "output_type": "execute_result"
    }
   ],
   "source": [
    "gbc.predict_proba(test_data[x])[0:] #predicted probability for each class from gradient boosting."
   ]
  },
  {
   "cell_type": "code",
   "execution_count": 136,
   "id": "b0105604",
   "metadata": {},
   "outputs": [
    {
     "data": {
      "text/plain": [
       "array([[0.00091681, 0.84419439, 0.1548888 ],\n",
       "       [0.00091733, 0.45828133, 0.54080135],\n",
       "       [0.0015806 , 0.34618037, 0.65223904],\n",
       "       ...,\n",
       "       [0.0015806 , 0.34618037, 0.65223904],\n",
       "       [0.00157986, 0.34273585, 0.65568429],\n",
       "       [0.0015806 , 0.34618037, 0.65223904]])"
      ]
     },
     "execution_count": 136,
     "metadata": {},
     "output_type": "execute_result"
    }
   ],
   "source": [
    "lrm.predict_proba(test_data[x])[0:] #predicted probability for each class from LOGISTIC REGRESSION."
   ]
  },
  {
   "cell_type": "code",
   "execution_count": 137,
   "id": "f3a5c321",
   "metadata": {},
   "outputs": [],
   "source": [
    "preds = test_data.is_phished[clf.predict(test_data[x])] #predicted values from random forest"
   ]
  },
  {
   "cell_type": "code",
   "execution_count": 138,
   "id": "20ddc40c",
   "metadata": {},
   "outputs": [],
   "source": [
    "preds2 = test_data.is_phished[gbc.predict(test_data[x])] #predicted values from gradient boosting"
   ]
  },
  {
   "cell_type": "code",
   "execution_count": 139,
   "id": "c71f8fd0",
   "metadata": {},
   "outputs": [],
   "source": [
    "preds3 = test_data.is_phished[lrm.predict(test_data[x])] #predicted values from LOGISTIC REGRESSION"
   ]
  },
  {
   "cell_type": "code",
   "execution_count": 140,
   "id": "83cb9b19",
   "metadata": {},
   "outputs": [
    {
     "data": {
      "text/plain": [
       "0    yes\n",
       "0    yes\n",
       "1     no\n",
       "0    yes\n",
       "1     no\n",
       "1     no\n",
       "0    yes\n",
       "1     no\n",
       "1     no\n",
       "1     no\n",
       "Name: is_phished, dtype: object"
      ]
     },
     "execution_count": 140,
     "metadata": {},
     "output_type": "execute_result"
    }
   ],
   "source": [
    "preds.head(10)"
   ]
  },
  {
   "cell_type": "code",
   "execution_count": 141,
   "id": "c7868935",
   "metadata": {},
   "outputs": [
    {
     "data": {
      "text/plain": [
       "0    yes\n",
       "0    yes\n",
       "1     no\n",
       "0    yes\n",
       "1     no\n",
       "1     no\n",
       "0    yes\n",
       "1     no\n",
       "1     no\n",
       "1     no\n",
       "Name: is_phished, dtype: object"
      ]
     },
     "execution_count": 141,
     "metadata": {},
     "output_type": "execute_result"
    }
   ],
   "source": [
    "preds2.head(10)"
   ]
  },
  {
   "cell_type": "code",
   "execution_count": 142,
   "id": "367a5061",
   "metadata": {},
   "outputs": [
    {
     "data": {
      "text/plain": [
       "0    yes\n",
       "1     no\n",
       "1     no\n",
       "1     no\n",
       "1     no\n",
       "1     no\n",
       "0    yes\n",
       "1     no\n",
       "1     no\n",
       "1     no\n",
       "Name: is_phished, dtype: object"
      ]
     },
     "execution_count": 142,
     "metadata": {},
     "output_type": "execute_result"
    }
   ],
   "source": [
    "preds3.head(10)"
   ]
  },
  {
   "cell_type": "code",
   "execution_count": 143,
   "id": "363a22e6",
   "metadata": {},
   "outputs": [],
   "source": [
    "actual = pd.Series(test_data['is_phished']) #actual values"
   ]
  },
  {
   "cell_type": "code",
   "execution_count": 144,
   "id": "d5d8f7d1",
   "metadata": {},
   "outputs": [
    {
     "data": {
      "text/plain": [
       "array([[ 94,  80],\n",
       "       [ 64, 152]], dtype=int64)"
      ]
     },
     "execution_count": 144,
     "metadata": {},
     "output_type": "execute_result"
    }
   ],
   "source": [
    "confusion_matrix(actual,preds) "
   ]
  },
  {
   "cell_type": "code",
   "execution_count": 145,
   "id": "ab0183a5",
   "metadata": {},
   "outputs": [
    {
     "data": {
      "text/plain": [
       "array([[ 92,  82],\n",
       "       [ 60, 156]], dtype=int64)"
      ]
     },
     "execution_count": 145,
     "metadata": {},
     "output_type": "execute_result"
    }
   ],
   "source": [
    "confusion_matrix(actual,preds2) "
   ]
  },
  {
   "cell_type": "code",
   "execution_count": 146,
   "id": "6e0420ff",
   "metadata": {},
   "outputs": [
    {
     "data": {
      "text/plain": [
       "array([[139,  35],\n",
       "       [133,  83]], dtype=int64)"
      ]
     },
     "execution_count": 146,
     "metadata": {},
     "output_type": "execute_result"
    }
   ],
   "source": [
    "confusion_matrix(actual,preds3) "
   ]
  },
  {
   "cell_type": "markdown",
   "id": "ffd06b7d",
   "metadata": {},
   "source": [
    "# ACCURACY OF THE BAGGING CLASSISFIER\n"
   ]
  },
  {
   "cell_type": "code",
   "execution_count": 147,
   "id": "179d1a04",
   "metadata": {},
   "outputs": [
    {
     "data": {
      "text/plain": [
       "63.07692307692307"
      ]
     },
     "execution_count": 147,
     "metadata": {},
     "output_type": "execute_result"
    }
   ],
   "source": [
    "accuracy_score(actual,preds)*100 #accuracy of bagging classifier"
   ]
  },
  {
   "cell_type": "markdown",
   "id": "8cbbc8c5",
   "metadata": {},
   "source": [
    "# Accuracy Of Extremely Randomized Trees Classifier(Extra Trees Classifier)"
   ]
  },
  {
   "cell_type": "code",
   "execution_count": 148,
   "id": "80e3a4f0",
   "metadata": {},
   "outputs": [
    {
     "data": {
      "text/plain": [
       "63.589743589743584"
      ]
     },
     "execution_count": 148,
     "metadata": {},
     "output_type": "execute_result"
    }
   ],
   "source": [
    "accuracy_score(actual,preds2)*100 #accuracy of classifier extra tree classifier"
   ]
  },
  {
   "cell_type": "markdown",
   "id": "7e332ec3",
   "metadata": {},
   "source": [
    "# Accuracy Of logistic regression Classifier"
   ]
  },
  {
   "cell_type": "code",
   "execution_count": 149,
   "id": "7af1831e",
   "metadata": {},
   "outputs": [
    {
     "data": {
      "text/plain": [
       "56.92307692307692"
      ]
     },
     "execution_count": 149,
     "metadata": {},
     "output_type": "execute_result"
    }
   ],
   "source": [
    "accuracy_score(actual,preds3)*100 #accuracy of classifier logistic regression"
   ]
  },
  {
   "cell_type": "markdown",
   "id": "0f63e91f",
   "metadata": {},
   "source": [
    "# CONCLUSION\n",
    "              Based on all the observation from the 6 classification algorithm we found that our model is performing well on the extra tree classifier."
   ]
  },
  {
   "cell_type": "code",
   "execution_count": null,
   "id": "b87370c4",
   "metadata": {},
   "outputs": [],
   "source": []
  }
 ],
 "metadata": {
  "kernelspec": {
   "display_name": "Python 3 (ipykernel)",
   "language": "python",
   "name": "python3"
  },
  "language_info": {
   "codemirror_mode": {
    "name": "ipython",
    "version": 3
   },
   "file_extension": ".py",
   "mimetype": "text/x-python",
   "name": "python",
   "nbconvert_exporter": "python",
   "pygments_lexer": "ipython3",
   "version": "3.9.7"
  }
 },
 "nbformat": 4,
 "nbformat_minor": 5
}
